{
 "cells": [
  {
   "cell_type": "markdown",
   "metadata": {},
   "source": [
    "# PileUp Mitigation with Machine Learning (PUMML)\n",
    "\n",
    "<a href=\"https://link.springer.com/article/10.1007%2FJHEP12%282017%29051\"> P. T. Komiske, E. M. Metodiev, B. Nachman, and M. D. Schwartz, *JHEP* 1712 (2017) 051</a>"
   ]
  },
  {
   "cell_type": "markdown",
   "metadata": {},
   "source": [
    "## Imports"
   ]
  },
  {
   "cell_type": "code",
   "execution_count": 1,
   "metadata": {},
   "outputs": [],
   "source": [
    "# python standard library imports\n",
    "import os\n",
    "\n",
    "# external library imports\n",
    "import h5py\n",
    "import numpy as np\n",
    "import matplotlib.pyplot as plt"
   ]
  },
  {
   "cell_type": "markdown",
   "metadata": {},
   "source": [
    "## Read Files"
   ]
  },
  {
   "cell_type": "code",
   "execution_count": 2,
   "metadata": {},
   "outputs": [],
   "source": [
    "# path to directory containing downloaded .h5 files\n",
    "pumml_path = '/Users/pkomiske/Documents/Research/PUMML/events'\n",
    "\n",
    "# events by different number of pileup interactions (mu)\n",
    "events_by_mu = h5py.File(os.path.join(pumml_path, 'PUMMLEventsByMu_mH500.h5'))\n",
    "\n",
    "# events by a different mass (mH) of the scaler resonance\n",
    "events_by_mh = h5py.File(os.path.join(pumml_path, 'PUMMLEventsBymH_Mu140.h5'))"
   ]
  },
  {
   "cell_type": "code",
   "execution_count": 3,
   "metadata": {},
   "outputs": [
    {
     "data": {
      "text/plain": [
       "[(u'0', <HDF5 dataset \"0\": shape (2000, 110, 9), type \"<f4\">),\n",
       " (u'1', <HDF5 dataset \"1\": shape (2000, 128, 9), type \"<f4\">),\n",
       " (u'10', <HDF5 dataset \"10\": shape (2000, 154, 9), type \"<f4\">),\n",
       " (u'100', <HDF5 dataset \"100\": shape (2000, 516, 9), type \"<f4\">),\n",
       " (u'101', <HDF5 dataset \"101\": shape (2000, 558, 9), type \"<f4\">),\n",
       " (u'102', <HDF5 dataset \"102\": shape (2000, 547, 9), type \"<f4\">),\n",
       " (u'103', <HDF5 dataset \"103\": shape (2000, 552, 9), type \"<f4\">),\n",
       " (u'104', <HDF5 dataset \"104\": shape (2000, 604, 9), type \"<f4\">),\n",
       " (u'105', <HDF5 dataset \"105\": shape (2000, 541, 9), type \"<f4\">),\n",
       " (u'106', <HDF5 dataset \"106\": shape (2000, 598, 9), type \"<f4\">)]"
      ]
     },
     "execution_count": 3,
     "metadata": {},
     "output_type": "execute_result"
    }
   ],
   "source": [
    "# print 10 items from mu file\n",
    "events_by_mu.items()[:10]"
   ]
  },
  {
   "cell_type": "code",
   "execution_count": 4,
   "metadata": {},
   "outputs": [
    {
     "data": {
      "text/plain": [
       "[(u'200', <HDF5 dataset \"200\": shape (50000, 704, 9), type \"<f4\">),\n",
       " (u'2000', <HDF5 dataset \"2000\": shape (50000, 876, 9), type \"<f4\">),\n",
       " (u'300', <HDF5 dataset \"300\": shape (50000, 744, 9), type \"<f4\">),\n",
       " (u'500', <HDF5 dataset \"500\": shape (50000, 757, 9), type \"<f4\">),\n",
       " (u'700', <HDF5 dataset \"700\": shape (50000, 774, 9), type \"<f4\">),\n",
       " (u'900', <HDF5 dataset \"900\": shape (50000, 783, 9), type \"<f4\">)]"
      ]
     },
     "execution_count": 4,
     "metadata": {},
     "output_type": "execute_result"
    }
   ],
   "source": [
    "# print items from mh fle\n",
    "events_by_mh.items()"
   ]
  },
  {
   "cell_type": "markdown",
   "metadata": {},
   "source": [
    "## Datasets"
   ]
  },
  {
   "cell_type": "markdown",
   "metadata": {},
   "source": [
    "Each dataset in the h5py files contains a specific number of events, 2k for each dataset specified by $\\mu$ and 50k for each dataset specified by $m_H$. Each event is padded with zero-particles such that all events can fit in a single contiguous numpy array. Note that when using the datasets, you may want to get rid of these zero particles. There are 9 features per particle, which are described below. Note that only particles which appear in some jet are present.\n",
    "\n",
    "In the examples below, you can see that there are 2000 events in the $\\mu=42$ dataset, the maximum number of particles recorded in a single event was 304 so all events are zero-padded to match that, and there are 9 features per particle."
   ]
  },
  {
   "cell_type": "code",
   "execution_count": 5,
   "metadata": {},
   "outputs": [
    {
     "name": "stdout",
     "output_type": "stream",
     "text": [
      "(<class 'h5py._hl.dataset.Dataset'>, (2000, 304, 9))\n",
      "(<type 'numpy.ndarray'>, (2000, 304, 9))\n"
     ]
    }
   ],
   "source": [
    "# get events by a specific mu value\n",
    "events_mu_42 = events_by_mu['42']\n",
    "\n",
    "# events_mu_42 is an h5py Dataset which behaves like a numpy array\n",
    "print(type(events_mu_42), events_mu_42.shape)\n",
    "\n",
    "# but you can get an actual numpy array (this involves actually reading data from disk and loading it into memory)\n",
    "events_mu_42_ndarray = events_mu_42[()]\n",
    "print(type(events_mu_42_ndarray), events_mu_42_ndarray.shape)"
   ]
  },
  {
   "cell_type": "markdown",
   "metadata": {},
   "source": [
    "The two humps in the following plot are due to some events having only one jet present."
   ]
  },
  {
   "cell_type": "code",
   "execution_count": 6,
   "metadata": {},
   "outputs": [
    {
     "data": {
      "image/png": "[encoded data removed]",
      "text/plain": [
       "<Figure size 480x480 with 1 Axes>"
      ]
     },
     "metadata": {
      "image/png": {
       "height": 438,
       "width": 457
      }
     },
     "output_type": "display_data"
    }
   ],
   "source": [
    "# demonstrating the non-zero padded multiplicity of the events\n",
    "plt.hist([np.count_nonzero(event[:,0] > 0) for event in events_mu_42_ndarray], bins=np.arange(0, 305, 10))\n",
    "plt.xlabel('Num. Particles in Any Jet in Event')\n",
    "plt.ylabel('Count')\n",
    "plt.show()"
   ]
  },
  {
   "cell_type": "markdown",
   "metadata": {},
   "source": [
    "## Particle Attributes"
   ]
  },
  {
   "cell_type": "code",
   "execution_count": 7,
   "metadata": {},
   "outputs": [
    {
     "data": {
      "text/plain": [
       "array(['pt', 'eta', 'phi', 'charged', 'vertex', 'puppi_weight',\n",
       "       'sk_weight', 'truth_jet', 'reco_jet'], dtype='|S12')"
      ]
     },
     "execution_count": 7,
     "metadata": {},
     "output_type": "execute_result"
    }
   ],
   "source": [
    "# this names the 9 features of each particle entry\n",
    "events_by_mu.attrs['col_names']"
   ]
  },
  {
   "cell_type": "markdown",
   "metadata": {},
   "source": [
    "The columns of each event are as follows:\n",
    "\n",
    "- **pt** - Transverse momentum of the particle, in GeV\n",
    "- **eta** - Pseudorapidity of the particle, in GeV\n",
    "- **phi** - Azimuthal angle of the particle (be careful about phi being periodic!)\n",
    "- **charged** - 0 for neutral particles and 1 for charged particles\n",
    "- **vertex** - Vertex id for the particle, 0 is the leading vertex and > 0 is pileup\n",
    "- **puppi_weight** - PUPPI weight for the particle, using the parameters described in the PUMML paper\n",
    "- **sk_weight** - SoftKiller weight for the particle, using the parameters described in the PUMML paper\n",
    "- **truth_jet** - 0 if particle is in the hardest truth (found without pileup) LV jet, 1 if in second hardest LV jet (some events may not have a second hardest LV jet due to not passing kinematic cuts), and -1 if particle is not in an LV jet\n",
    "- **reco_jet** - 0 if particle is in reco (found with pileup) jet corresponding to hardest LV jet, 1 if in reco jet corresponding to second hardest LV jet, and -1 if particle is not in any reco jet (rare)\n",
    "\n",
    "Note that events may have one or two jets, depending on how many LV jets passed kinematic cuts. We do not record events that had no LV jets passing."
   ]
  },
  {
   "cell_type": "markdown",
   "metadata": {},
   "source": [
    "## Extracting Jets"
   ]
  },
  {
   "cell_type": "code",
   "execution_count": 8,
   "metadata": {},
   "outputs": [],
   "source": [
    "# get all truth jets from mu=42 dataset\n",
    "mu_42_jets = []\n",
    "\n",
    "# index of truth jet index\n",
    "tjet_i = 7\n",
    "\n",
    "# iterate over events\n",
    "for event in events_mu_42_ndarray:\n",
    "    \n",
    "    # get nonzero particles from events\n",
    "    particles = event[event[:,0] > 0]\n",
    "    \n",
    "    # upt to two total jets\n",
    "    for tjet in range(2):\n",
    "        \n",
    "        # get particles matching that truth jet\n",
    "        jet = particles[particles[:,tjet_i] == tjet]\n",
    "        \n",
    "        # append if we have some particles\n",
    "        if len(jet) > 0:\n",
    "            mu_42_jets.append(jet)"
   ]
  },
  {
   "cell_type": "code",
   "execution_count": 9,
   "metadata": {},
   "outputs": [
    {
     "data": {
      "image/png": "[encoded data removed]",
      "text/plain": [
       "<Figure size 480x480 with 1 Axes>"
      ]
     },
     "metadata": {
      "image/png": {
       "height": 438,
       "width": 457
      }
     },
     "output_type": "display_data"
    }
   ],
   "source": [
    "# get multiplicity spectrum of mu=42 jets\n",
    "plt.hist([len(jet) for jet in mu_42_jets], bins=np.arange(0, 101, 2))\n",
    "plt.xlabel('Constitutent Multiplicity')\n",
    "plt.ylabel('Count')\n",
    "plt.show()"
   ]
  }
 ],
 "metadata": {
  "kernelspec": {
   "display_name": "Python 3",
   "language": "python",
   "name": "python3"
  },
  "language_info": {
   "codemirror_mode": {
    "name": "ipython",
    "version": 2
   },
   "file_extension": ".py",
   "mimetype": "text/x-python",
   "name": "python",
   "nbconvert_exporter": "python",
   "pygments_lexer": "ipython2",
   "version": "2.7.16"
  }
 },
 "nbformat": 4,
 "nbformat_minor": 2
}
